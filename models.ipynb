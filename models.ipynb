{
 "cells": [
  {
   "cell_type": "code",
   "execution_count": 7,
   "metadata": {},
   "outputs": [],
   "source": [
    "import pandas as pd\n",
    "import numpy as np\n",
    "from sklearn.cluster import KMeans\n",
    "from sklearn.preprocessing import LabelEncoder\n",
    "from sklearn.preprocessing import MinMaxScaler\n",
    "import seaborn as sns\n",
    "import matplotlib.pyplot as plt\n",
    "from sklearn.tree import DecisionTreeClassifier\n",
    "from sklearn import metrics\n",
    "from sklearn.model_selection import train_test_split\n",
    "from sklearn.linear_model import LinearRegression\n",
    "from sklearn.preprocessing import StandardScaler\n",
    "from sklearn.neural_network import MLPClassifier\n",
    "from sklearn.metrics import classification_report,confusion_matrix\n",
    "from sklearn.metrics import accuracy_score\n",
    "from sklearn.tree import DecisionTreeClassifier\n",
    "from sklearn import metrics\n",
    "from sklearn.tree import export_graphviz\n",
    "from IPython.display import Image  \n",
    "import pydotplus\n",
    "from io import StringIO\n",
    "from sklearn.metrics import mean_squared_error, r2_score\n",
    "import time"
   ]
  },
  {
   "cell_type": "code",
   "execution_count": 8,
   "metadata": {},
   "outputs": [],
   "source": [
    "df=pd.read_csv('AllSensor.csv',names=['Number','Sensor_Address','Time','Date','Temperature','Humidity','Light','Motion','CO2','VDD'])\n",
    "#df=pd.DataFrame([df],columns=['Number','Sensor Address','Time','Date','Temperature','Humidity','Light','Motion','CO2','VDD'])\n",
    "weather=pd.read_csv('weather.csv',names=['Number','Temp_weather','Temperature_Max','Temperature_min','Pressure','Humidity_weather','Wind_speed','Sunset_time','Sunrise_time','Weather','Latitude','Longitude','Time','Date'])\n",
    "#weather.head(1)\n",
    "result_matrix = pd.DataFrame(columns=['Name','R_Score','Linear_regression_time','Linear_regression_CPU_time',\n",
    "                                      'NN','Neural_Network_time','Neural_Network_CPU_time','DT',\n",
    "                                      'Decision_Tree_time','Decision_Tree_CPU_time'])"
   ]
  },
  {
   "cell_type": "code",
   "execution_count": 9,
   "metadata": {
    "scrolled": true
   },
   "outputs": [],
   "source": [
    "weather = weather.drop(['Number','Latitude','Longitude'],axis = 1)\n",
    "weather['DateTime'] = weather['Date'] + ' ' + weather['Time']\n",
    "weather['Time'] = pd.to_datetime(weather['Time'], format='%H:%M:%S').dt.time\n",
    "weather['Date'] = pd.to_datetime(weather['Date'], format='%Y-%m-%d').dt.date\n",
    "weather['DateTime'] = pd.to_datetime(weather['DateTime'], format='%Y-%m-%d %H:%M:%S')\n",
    "weather['Minute']=weather.DateTime.dt.minute\n",
    "weather['Hour']=weather.DateTime.dt.hour\n",
    "W={'Clear':1,'Clouds':2,'Drizzle':3,'Fog':4,'Haze':5,'Mist':6,'Rain':7,'Snow':8,'Thunderstorm':9}\n",
    "weather.Weather = [W[i] for i in weather.Weather] \n"
   ]
  },
  {
   "cell_type": "code",
   "execution_count": 10,
   "metadata": {},
   "outputs": [],
   "source": [
    "df.dropna\n",
    "df['DateTime'] = df['Date'] + ' ' + df['Time']\n",
    "df = df.drop(['Number'], axis =1)\n",
    "df['Time'] = pd.to_datetime(df['Time'], format='%H:%M:%S',errors='coerce').dt.time\n",
    "df['Date'] = pd.to_datetime(df['Date'], format='%Y-%m-%d',errors='coerce').dt.date\n",
    "df.dropna\n",
    "df['DateTime'] = pd.to_datetime(df['DateTime'], format='%Y-%m-%d %H:%M:%S',errors='coerce')\n",
    "df.dropna\n",
    "df['Minute']=df.DateTime.dt.minute\n",
    "df['Hour']=df.DateTime.dt.hour"
   ]
  },
  {
   "cell_type": "code",
   "execution_count": 12,
   "metadata": {},
   "outputs": [
    {
     "name": "stdout",
     "output_type": "stream",
     "text": [
      "a8-17-58-ff-fe-03-65-4a\n",
      "a8-17-58-ff-fe-03-66-ba\n",
      "a8-17-58-ff-fe-03-66-b8\n",
      "a8-17-58-ff-fe-03-65-4b\n",
      "a8-17-58-ff-fe-03-65-48\n",
      "a8-17-58-ff-fe-03-93-d4\n",
      "a8-17-58-ff-fe-03-65-4d\n",
      "a8-17-58-ff-fe-03-93-91\n",
      "a8-17-58-ff-fe-03-66-af\n",
      "a8-17-58-ff-fe-03-93-97\n",
      "a8-17-58-ff-fe-03-93-8e\n",
      "a8-17-58-ff-fe-03-93-d2\n",
      "a8-17-58-ff-fe-03-67-1a\n",
      "a8-17-58-ff-fe-03-66-ac\n",
      "a8-17-58-ff-fe-03-93-93\n",
      "a8-17-58-ff-fe-03-93-d1\n",
      "a8-17-58-ff-fe-03-93-d3\n",
      "a8-17-58-ff-fe-03-64-cb\n",
      "a8-17-58-ff-fe-03-66-b9\n",
      "a8-17-58-ff-fe-03-93-d7a8-17-58-ff-fe-03-93-d9\n",
      "a8-17-58-ff-fe-03-66-b7\n",
      "a8-17-58-ff-fe-03-93-da\n",
      "a8-17-58-ff-fe-03-66-b6\n",
      "a8-17-58-ff-fe-03-93-90\n",
      "a8-17-58-ff-fe-03-93-92\n",
      "a8-17-58-ff-fe-03-65-4c\n",
      "a8-17-58-ff-fe-03-65-49\n",
      "a8-17-58-ff-fe-03-93-8f\n",
      "a8-17-58-ff-fe-03-93-d0\n"
     ]
    }
   ],
   "source": [
    "s= {\n",
    "    'a8-17-58-ff-fe-03-64-cb',\n",
    "    'a8-17-58-ff-fe-03-65-48',\n",
    "    'a8-17-58-ff-fe-03-65-49',\n",
    "    'a8-17-58-ff-fe-03-65-4a',\n",
    "    'a8-17-58-ff-fe-03-65-4b',\n",
    "    'a8-17-58-ff-fe-03-65-4c',\n",
    "    'a8-17-58-ff-fe-03-65-4d',\n",
    "    'a8-17-58-ff-fe-03-66-ac',\n",
    "    'a8-17-58-ff-fe-03-66-af',\n",
    "    'a8-17-58-ff-fe-03-66-b6',\n",
    "    'a8-17-58-ff-fe-03-66-b7',\n",
    "    'a8-17-58-ff-fe-03-66-b8',\n",
    "    'a8-17-58-ff-fe-03-66-b9',\n",
    "    'a8-17-58-ff-fe-03-66-ba',\n",
    "    'a8-17-58-ff-fe-03-67-1a',\n",
    "    'a8-17-58-ff-fe-03-93-8e',\n",
    "    'a8-17-58-ff-fe-03-93-8f',\n",
    "    'a8-17-58-ff-fe-03-93-90',\n",
    "    'a8-17-58-ff-fe-03-93-91',\n",
    "    'a8-17-58-ff-fe-03-93-92',\n",
    "    'a8-17-58-ff-fe-03-93-93',\n",
    "    'a8-17-58-ff-fe-03-93-97',\n",
    "    'a8-17-58-ff-fe-03-93-d0',\n",
    "    'a8-17-58-ff-fe-03-93-d1',\n",
    "    'a8-17-58-ff-fe-03-93-d2',\n",
    "    'a8-17-58-ff-fe-03-93-d3',\n",
    "    'a8-17-58-ff-fe-03-93-d4',\n",
    "    'a8-17-58-ff-fe-03-93-d7'\n",
    "    #'a8-17-58-ff-fe-03-93-d8',\n",
    "    'a8-17-58-ff-fe-03-93-d9',\n",
    "    'a8-17-58-ff-fe-03-93-da'}\n",
    "for i in s:\n",
    "    print (i)"
   ]
  },
  {
   "cell_type": "code",
   "execution_count": null,
   "metadata": {},
   "outputs": [
    {
     "name": "stderr",
     "output_type": "stream",
     "text": [
      "/srv/conda/envs/notebook/lib/python3.7/site-packages/ipykernel_launcher.py:40: DeprecationWarning: time.clock has been deprecated in Python 3.3 and will be removed from Python 3.8: use time.perf_counter or time.process_time instead\n",
      "/srv/conda/envs/notebook/lib/python3.7/site-packages/ipykernel_launcher.py:44: DeprecationWarning: time.clock has been deprecated in Python 3.3 and will be removed from Python 3.8: use time.perf_counter or time.process_time instead\n"
     ]
    },
    {
     "name": "stdout",
     "output_type": "stream",
     "text": [
      "rscore is 0.44616488862201786\n"
     ]
    },
    {
     "name": "stderr",
     "output_type": "stream",
     "text": [
      "/srv/conda/envs/notebook/lib/python3.7/site-packages/ipykernel_launcher.py:55: DeprecationWarning: time.clock has been deprecated in Python 3.3 and will be removed from Python 3.8: use time.perf_counter or time.process_time instead\n",
      "/srv/conda/envs/notebook/lib/python3.7/site-packages/ipykernel_launcher.py:59: DeprecationWarning: time.clock has been deprecated in Python 3.3 and will be removed from Python 3.8: use time.perf_counter or time.process_time instead\n"
     ]
    },
    {
     "name": "stdout",
     "output_type": "stream",
     "text": [
      "NN accuracy 0.7355961601208978\n"
     ]
    },
    {
     "name": "stderr",
     "output_type": "stream",
     "text": [
      "/srv/conda/envs/notebook/lib/python3.7/site-packages/ipykernel_launcher.py:64: DeprecationWarning: time.clock has been deprecated in Python 3.3 and will be removed from Python 3.8: use time.perf_counter or time.process_time instead\n",
      "/srv/conda/envs/notebook/lib/python3.7/site-packages/ipykernel_launcher.py:69: DeprecationWarning: time.clock has been deprecated in Python 3.3 and will be removed from Python 3.8: use time.perf_counter or time.process_time instead\n"
     ]
    },
    {
     "name": "stdout",
     "output_type": "stream",
     "text": [
      "DT accuracy 0.9639023887619996\n",
      "                      Name   R_Score  Linear_regression_time  \\\n",
      "0  a8-17-58-ff-fe-03-65-4a  0.446165                0.037873   \n",
      "\n",
      "   Linear_regression_CPU_time        NN  Neural_Network_time  \\\n",
      "0                    0.049301  0.735596          2026.338197   \n",
      "\n",
      "   Neural_Network_CPU_time        DT  Decision_Tree_time  \\\n",
      "0              2025.366948  0.963902            0.651157   \n",
      "\n",
      "   Decision_Tree_CPU_time  \n",
      "0                0.653132  \n"
     ]
    },
    {
     "name": "stderr",
     "output_type": "stream",
     "text": [
      "/srv/conda/envs/notebook/lib/python3.7/site-packages/ipykernel_launcher.py:40: DeprecationWarning: time.clock has been deprecated in Python 3.3 and will be removed from Python 3.8: use time.perf_counter or time.process_time instead\n",
      "/srv/conda/envs/notebook/lib/python3.7/site-packages/ipykernel_launcher.py:44: DeprecationWarning: time.clock has been deprecated in Python 3.3 and will be removed from Python 3.8: use time.perf_counter or time.process_time instead\n"
     ]
    },
    {
     "name": "stdout",
     "output_type": "stream",
     "text": [
      "rscore is 0.20037141022974136\n"
     ]
    },
    {
     "name": "stderr",
     "output_type": "stream",
     "text": [
      "/srv/conda/envs/notebook/lib/python3.7/site-packages/ipykernel_launcher.py:55: DeprecationWarning: time.clock has been deprecated in Python 3.3 and will be removed from Python 3.8: use time.perf_counter or time.process_time instead\n",
      "/srv/conda/envs/notebook/lib/python3.7/site-packages/ipykernel_launcher.py:59: DeprecationWarning: time.clock has been deprecated in Python 3.3 and will be removed from Python 3.8: use time.perf_counter or time.process_time instead\n"
     ]
    },
    {
     "name": "stdout",
     "output_type": "stream",
     "text": [
      "NN accuracy 0.732756930984167\n"
     ]
    },
    {
     "name": "stderr",
     "output_type": "stream",
     "text": [
      "/srv/conda/envs/notebook/lib/python3.7/site-packages/ipykernel_launcher.py:64: DeprecationWarning: time.clock has been deprecated in Python 3.3 and will be removed from Python 3.8: use time.perf_counter or time.process_time instead\n",
      "/srv/conda/envs/notebook/lib/python3.7/site-packages/ipykernel_launcher.py:69: DeprecationWarning: time.clock has been deprecated in Python 3.3 and will be removed from Python 3.8: use time.perf_counter or time.process_time instead\n"
     ]
    },
    {
     "name": "stdout",
     "output_type": "stream",
     "text": [
      "DT accuracy 0.9535756546231969\n",
      "                      Name   R_Score  Linear_regression_time  \\\n",
      "0  a8-17-58-ff-fe-03-65-4a  0.446165                0.037873   \n",
      "1  a8-17-58-ff-fe-03-66-ba  0.200371                0.046867   \n",
      "\n",
      "   Linear_regression_CPU_time        NN  Neural_Network_time  \\\n",
      "0                    0.049301  0.735596          2026.338197   \n",
      "1                    0.060889  0.732757          2372.366788   \n",
      "\n",
      "   Neural_Network_CPU_time        DT  Decision_Tree_time  \\\n",
      "0              2025.366948  0.963902            0.651157   \n",
      "1              2371.883254  0.953576            0.709361   \n",
      "\n",
      "   Decision_Tree_CPU_time  \n",
      "0                0.653132  \n",
      "1                0.711811  \n"
     ]
    },
    {
     "name": "stderr",
     "output_type": "stream",
     "text": [
      "/srv/conda/envs/notebook/lib/python3.7/site-packages/ipykernel_launcher.py:40: DeprecationWarning: time.clock has been deprecated in Python 3.3 and will be removed from Python 3.8: use time.perf_counter or time.process_time instead\n",
      "/srv/conda/envs/notebook/lib/python3.7/site-packages/ipykernel_launcher.py:44: DeprecationWarning: time.clock has been deprecated in Python 3.3 and will be removed from Python 3.8: use time.perf_counter or time.process_time instead\n"
     ]
    },
    {
     "name": "stdout",
     "output_type": "stream",
     "text": [
      "rscore is 0.5204367007707087\n"
     ]
    },
    {
     "name": "stderr",
     "output_type": "stream",
     "text": [
      "/srv/conda/envs/notebook/lib/python3.7/site-packages/ipykernel_launcher.py:55: DeprecationWarning: time.clock has been deprecated in Python 3.3 and will be removed from Python 3.8: use time.perf_counter or time.process_time instead\n",
      "/srv/conda/envs/notebook/lib/python3.7/site-packages/ipykernel_launcher.py:59: DeprecationWarning: time.clock has been deprecated in Python 3.3 and will be removed from Python 3.8: use time.perf_counter or time.process_time instead\n"
     ]
    },
    {
     "name": "stdout",
     "output_type": "stream",
     "text": [
      "NN accuracy 0.7139468417721114\n"
     ]
    },
    {
     "name": "stderr",
     "output_type": "stream",
     "text": [
      "/srv/conda/envs/notebook/lib/python3.7/site-packages/ipykernel_launcher.py:64: DeprecationWarning: time.clock has been deprecated in Python 3.3 and will be removed from Python 3.8: use time.perf_counter or time.process_time instead\n",
      "/srv/conda/envs/notebook/lib/python3.7/site-packages/ipykernel_launcher.py:69: DeprecationWarning: time.clock has been deprecated in Python 3.3 and will be removed from Python 3.8: use time.perf_counter or time.process_time instead\n"
     ]
    },
    {
     "name": "stdout",
     "output_type": "stream",
     "text": [
      "DT accuracy 0.9726408398923281\n",
      "                      Name   R_Score  Linear_regression_time  \\\n",
      "0  a8-17-58-ff-fe-03-65-4a  0.446165                0.037873   \n",
      "1  a8-17-58-ff-fe-03-66-ba  0.200371                0.046867   \n",
      "2  a8-17-58-ff-fe-03-66-b8  0.520437                0.048600   \n",
      "\n",
      "   Linear_regression_CPU_time        NN  Neural_Network_time  \\\n",
      "0                    0.049301  0.735596          2026.338197   \n",
      "1                    0.060889  0.732757          2372.366788   \n",
      "2                    0.061989  0.713947          2409.425981   \n",
      "\n",
      "   Neural_Network_CPU_time        DT  Decision_Tree_time  \\\n",
      "0              2025.366948  0.963902            0.651157   \n",
      "1              2371.883254  0.953576            0.709361   \n",
      "2              2409.211939  0.972641            0.822080   \n",
      "\n",
      "   Decision_Tree_CPU_time  \n",
      "0                0.653132  \n",
      "1                0.711811  \n",
      "2                0.824466  \n"
     ]
    },
    {
     "name": "stderr",
     "output_type": "stream",
     "text": [
      "/srv/conda/envs/notebook/lib/python3.7/site-packages/ipykernel_launcher.py:40: DeprecationWarning: time.clock has been deprecated in Python 3.3 and will be removed from Python 3.8: use time.perf_counter or time.process_time instead\n",
      "/srv/conda/envs/notebook/lib/python3.7/site-packages/ipykernel_launcher.py:44: DeprecationWarning: time.clock has been deprecated in Python 3.3 and will be removed from Python 3.8: use time.perf_counter or time.process_time instead\n"
     ]
    },
    {
     "name": "stdout",
     "output_type": "stream",
     "text": [
      "rscore is 0.6586284936804436\n"
     ]
    },
    {
     "name": "stderr",
     "output_type": "stream",
     "text": [
      "/srv/conda/envs/notebook/lib/python3.7/site-packages/ipykernel_launcher.py:55: DeprecationWarning: time.clock has been deprecated in Python 3.3 and will be removed from Python 3.8: use time.perf_counter or time.process_time instead\n",
      "/srv/conda/envs/notebook/lib/python3.7/site-packages/ipykernel_launcher.py:59: DeprecationWarning: time.clock has been deprecated in Python 3.3 and will be removed from Python 3.8: use time.perf_counter or time.process_time instead\n"
     ]
    },
    {
     "name": "stdout",
     "output_type": "stream",
     "text": [
      "NN accuracy 0.6179219671113869\n"
     ]
    },
    {
     "name": "stderr",
     "output_type": "stream",
     "text": [
      "/srv/conda/envs/notebook/lib/python3.7/site-packages/ipykernel_launcher.py:64: DeprecationWarning: time.clock has been deprecated in Python 3.3 and will be removed from Python 3.8: use time.perf_counter or time.process_time instead\n",
      "/srv/conda/envs/notebook/lib/python3.7/site-packages/ipykernel_launcher.py:69: DeprecationWarning: time.clock has been deprecated in Python 3.3 and will be removed from Python 3.8: use time.perf_counter or time.process_time instead\n"
     ]
    },
    {
     "name": "stdout",
     "output_type": "stream",
     "text": [
      "DT accuracy 0.9216309856241597\n",
      "                      Name   R_Score  Linear_regression_time  \\\n",
      "0  a8-17-58-ff-fe-03-65-4a  0.446165                0.037873   \n",
      "1  a8-17-58-ff-fe-03-66-ba  0.200371                0.046867   \n",
      "2  a8-17-58-ff-fe-03-66-b8  0.520437                0.048600   \n",
      "3  a8-17-58-ff-fe-03-65-4b  0.658628                0.053819   \n",
      "\n",
      "   Linear_regression_CPU_time        NN  Neural_Network_time  \\\n",
      "0                    0.049301  0.735596          2026.338197   \n",
      "1                    0.060889  0.732757          2372.366788   \n",
      "2                    0.061989  0.713947          2409.425981   \n",
      "3                    0.070360  0.617922          2275.351431   \n",
      "\n",
      "   Neural_Network_CPU_time        DT  Decision_Tree_time  \\\n",
      "0              2025.366948  0.963902            0.651157   \n",
      "1              2371.883254  0.953576            0.709361   \n",
      "2              2409.211939  0.972641            0.822080   \n",
      "3              2275.160283  0.921631            0.884058   \n",
      "\n",
      "   Decision_Tree_CPU_time  \n",
      "0                0.653132  \n",
      "1                0.711811  \n",
      "2                0.824466  \n",
      "3                0.886459  \n"
     ]
    },
    {
     "name": "stderr",
     "output_type": "stream",
     "text": [
      "/srv/conda/envs/notebook/lib/python3.7/site-packages/ipykernel_launcher.py:40: DeprecationWarning: time.clock has been deprecated in Python 3.3 and will be removed from Python 3.8: use time.perf_counter or time.process_time instead\n",
      "/srv/conda/envs/notebook/lib/python3.7/site-packages/ipykernel_launcher.py:44: DeprecationWarning: time.clock has been deprecated in Python 3.3 and will be removed from Python 3.8: use time.perf_counter or time.process_time instead\n"
     ]
    },
    {
     "name": "stdout",
     "output_type": "stream",
     "text": [
      "rscore is 0.08632305921651684\n"
     ]
    },
    {
     "name": "stderr",
     "output_type": "stream",
     "text": [
      "/srv/conda/envs/notebook/lib/python3.7/site-packages/ipykernel_launcher.py:55: DeprecationWarning: time.clock has been deprecated in Python 3.3 and will be removed from Python 3.8: use time.perf_counter or time.process_time instead\n",
      "/srv/conda/envs/notebook/lib/python3.7/site-packages/ipykernel_launcher.py:59: DeprecationWarning: time.clock has been deprecated in Python 3.3 and will be removed from Python 3.8: use time.perf_counter or time.process_time instead\n"
     ]
    },
    {
     "name": "stdout",
     "output_type": "stream",
     "text": [
      "NN accuracy 0.6551393444195102\n"
     ]
    },
    {
     "name": "stderr",
     "output_type": "stream",
     "text": [
      "/srv/conda/envs/notebook/lib/python3.7/site-packages/ipykernel_launcher.py:64: DeprecationWarning: time.clock has been deprecated in Python 3.3 and will be removed from Python 3.8: use time.perf_counter or time.process_time instead\n",
      "/srv/conda/envs/notebook/lib/python3.7/site-packages/ipykernel_launcher.py:69: DeprecationWarning: time.clock has been deprecated in Python 3.3 and will be removed from Python 3.8: use time.perf_counter or time.process_time instead\n"
     ]
    },
    {
     "name": "stdout",
     "output_type": "stream",
     "text": [
      "DT accuracy 0.8799508985940887\n",
      "                      Name   R_Score  Linear_regression_time  \\\n",
      "0  a8-17-58-ff-fe-03-65-4a  0.446165                0.037873   \n",
      "1  a8-17-58-ff-fe-03-66-ba  0.200371                0.046867   \n",
      "2  a8-17-58-ff-fe-03-66-b8  0.520437                0.048600   \n",
      "3  a8-17-58-ff-fe-03-65-4b  0.658628                0.053819   \n",
      "4  a8-17-58-ff-fe-03-65-48  0.086323                0.016177   \n",
      "\n",
      "   Linear_regression_CPU_time        NN  Neural_Network_time  \\\n",
      "0                    0.049301  0.735596          2026.338197   \n",
      "1                    0.060889  0.732757          2372.366788   \n",
      "2                    0.061989  0.713947          2409.425981   \n",
      "3                    0.070360  0.617922          2275.351431   \n",
      "4                    0.020685  0.655139           174.157434   \n",
      "\n",
      "   Neural_Network_CPU_time        DT  Decision_Tree_time  \\\n",
      "0              2025.366948  0.963902            0.651157   \n",
      "1              2371.883254  0.953576            0.709361   \n",
      "2              2409.211939  0.972641            0.822080   \n",
      "3              2275.160283  0.921631            0.884058   \n",
      "4               174.134862  0.879951            0.188393   \n",
      "\n",
      "   Decision_Tree_CPU_time  \n",
      "0                0.653132  \n",
      "1                0.711811  \n",
      "2                0.824466  \n",
      "3                0.886459  \n",
      "4                0.189262  \n"
     ]
    },
    {
     "name": "stderr",
     "output_type": "stream",
     "text": [
      "/srv/conda/envs/notebook/lib/python3.7/site-packages/ipykernel_launcher.py:40: DeprecationWarning: time.clock has been deprecated in Python 3.3 and will be removed from Python 3.8: use time.perf_counter or time.process_time instead\n",
      "/srv/conda/envs/notebook/lib/python3.7/site-packages/ipykernel_launcher.py:44: DeprecationWarning: time.clock has been deprecated in Python 3.3 and will be removed from Python 3.8: use time.perf_counter or time.process_time instead\n"
     ]
    },
    {
     "name": "stdout",
     "output_type": "stream",
     "text": [
      "rscore is 0.5451298024275921\n"
     ]
    },
    {
     "name": "stderr",
     "output_type": "stream",
     "text": [
      "/srv/conda/envs/notebook/lib/python3.7/site-packages/ipykernel_launcher.py:55: DeprecationWarning: time.clock has been deprecated in Python 3.3 and will be removed from Python 3.8: use time.perf_counter or time.process_time instead\n",
      "/srv/conda/envs/notebook/lib/python3.7/site-packages/ipykernel_launcher.py:59: DeprecationWarning: time.clock has been deprecated in Python 3.3 and will be removed from Python 3.8: use time.perf_counter or time.process_time instead\n"
     ]
    },
    {
     "name": "stdout",
     "output_type": "stream",
     "text": [
      "NN accuracy 0.7241242396092415\n"
     ]
    },
    {
     "name": "stderr",
     "output_type": "stream",
     "text": [
      "/srv/conda/envs/notebook/lib/python3.7/site-packages/ipykernel_launcher.py:64: DeprecationWarning: time.clock has been deprecated in Python 3.3 and will be removed from Python 3.8: use time.perf_counter or time.process_time instead\n",
      "/srv/conda/envs/notebook/lib/python3.7/site-packages/ipykernel_launcher.py:69: DeprecationWarning: time.clock has been deprecated in Python 3.3 and will be removed from Python 3.8: use time.perf_counter or time.process_time instead\n"
     ]
    },
    {
     "name": "stdout",
     "output_type": "stream",
     "text": [
      "DT accuracy 0.9362470408438465\n",
      "                      Name   R_Score  Linear_regression_time  \\\n",
      "0  a8-17-58-ff-fe-03-65-4a  0.446165                0.037873   \n",
      "1  a8-17-58-ff-fe-03-66-ba  0.200371                0.046867   \n",
      "2  a8-17-58-ff-fe-03-66-b8  0.520437                0.048600   \n",
      "3  a8-17-58-ff-fe-03-65-4b  0.658628                0.053819   \n",
      "4  a8-17-58-ff-fe-03-65-48  0.086323                0.016177   \n",
      "5  a8-17-58-ff-fe-03-93-d4  0.545130                0.049490   \n",
      "\n",
      "   Linear_regression_CPU_time        NN  Neural_Network_time  \\\n",
      "0                    0.049301  0.735596          2026.338197   \n",
      "1                    0.060889  0.732757          2372.366788   \n",
      "2                    0.061989  0.713947          2409.425981   \n",
      "3                    0.070360  0.617922          2275.351431   \n",
      "4                    0.020685  0.655139           174.157434   \n",
      "5                    0.063496  0.724124          2314.325357   \n",
      "\n",
      "   Neural_Network_CPU_time        DT  Decision_Tree_time  \\\n",
      "0              2025.366948  0.963902            0.651157   \n",
      "1              2371.883254  0.953576            0.709361   \n",
      "2              2409.211939  0.972641            0.822080   \n",
      "3              2275.160283  0.921631            0.884058   \n",
      "4               174.134862  0.879951            0.188393   \n",
      "5              2313.958291  0.936247            0.752909   \n",
      "\n",
      "   Decision_Tree_CPU_time  \n",
      "0                0.653132  \n",
      "1                0.711811  \n",
      "2                0.824466  \n",
      "3                0.886459  \n",
      "4                0.189262  \n",
      "5                0.755418  \n"
     ]
    },
    {
     "name": "stderr",
     "output_type": "stream",
     "text": [
      "/srv/conda/envs/notebook/lib/python3.7/site-packages/ipykernel_launcher.py:40: DeprecationWarning: time.clock has been deprecated in Python 3.3 and will be removed from Python 3.8: use time.perf_counter or time.process_time instead\n",
      "/srv/conda/envs/notebook/lib/python3.7/site-packages/ipykernel_launcher.py:44: DeprecationWarning: time.clock has been deprecated in Python 3.3 and will be removed from Python 3.8: use time.perf_counter or time.process_time instead\n"
     ]
    },
    {
     "name": "stdout",
     "output_type": "stream",
     "text": [
      "rscore is 0.44779944111058134\n"
     ]
    },
    {
     "name": "stderr",
     "output_type": "stream",
     "text": [
      "/srv/conda/envs/notebook/lib/python3.7/site-packages/ipykernel_launcher.py:55: DeprecationWarning: time.clock has been deprecated in Python 3.3 and will be removed from Python 3.8: use time.perf_counter or time.process_time instead\n",
      "/srv/conda/envs/notebook/lib/python3.7/site-packages/ipykernel_launcher.py:59: DeprecationWarning: time.clock has been deprecated in Python 3.3 and will be removed from Python 3.8: use time.perf_counter or time.process_time instead\n"
     ]
    },
    {
     "name": "stdout",
     "output_type": "stream",
     "text": [
      "NN accuracy 0.6400527088137522\n"
     ]
    },
    {
     "name": "stderr",
     "output_type": "stream",
     "text": [
      "/srv/conda/envs/notebook/lib/python3.7/site-packages/ipykernel_launcher.py:64: DeprecationWarning: time.clock has been deprecated in Python 3.3 and will be removed from Python 3.8: use time.perf_counter or time.process_time instead\n",
      "/srv/conda/envs/notebook/lib/python3.7/site-packages/ipykernel_launcher.py:69: DeprecationWarning: time.clock has been deprecated in Python 3.3 and will be removed from Python 3.8: use time.perf_counter or time.process_time instead\n"
     ]
    },
    {
     "name": "stdout",
     "output_type": "stream",
     "text": [
      "DT accuracy 0.9438920667245665\n",
      "                      Name   R_Score  Linear_regression_time  \\\n",
      "0  a8-17-58-ff-fe-03-65-4a  0.446165                0.037873   \n",
      "1  a8-17-58-ff-fe-03-66-ba  0.200371                0.046867   \n",
      "2  a8-17-58-ff-fe-03-66-b8  0.520437                0.048600   \n",
      "3  a8-17-58-ff-fe-03-65-4b  0.658628                0.053819   \n",
      "4  a8-17-58-ff-fe-03-65-48  0.086323                0.016177   \n",
      "5  a8-17-58-ff-fe-03-93-d4  0.545130                0.049490   \n",
      "6  a8-17-58-ff-fe-03-65-4d  0.447799                0.021834   \n",
      "\n",
      "   Linear_regression_CPU_time        NN  Neural_Network_time  \\\n",
      "0                    0.049301  0.735596          2026.338197   \n",
      "1                    0.060889  0.732757          2372.366788   \n",
      "2                    0.061989  0.713947          2409.425981   \n",
      "3                    0.070360  0.617922          2275.351431   \n",
      "4                    0.020685  0.655139           174.157434   \n",
      "5                    0.063496  0.724124          2314.325357   \n",
      "6                    0.028278  0.640053           415.638384   \n",
      "\n",
      "   Neural_Network_CPU_time        DT  Decision_Tree_time  \\\n",
      "0              2025.366948  0.963902            0.651157   \n",
      "1              2371.883254  0.953576            0.709361   \n",
      "2              2409.211939  0.972641            0.822080   \n",
      "3              2275.160283  0.921631            0.884058   \n",
      "4               174.134862  0.879951            0.188393   \n",
      "5              2313.958291  0.936247            0.752909   \n",
      "6               415.641101  0.943892            0.316214   \n",
      "\n",
      "   Decision_Tree_CPU_time  \n",
      "0                0.653132  \n",
      "1                0.711811  \n",
      "2                0.824466  \n",
      "3                0.886459  \n",
      "4                0.189262  \n",
      "5                0.755418  \n",
      "6                0.318696  \n"
     ]
    },
    {
     "name": "stderr",
     "output_type": "stream",
     "text": [
      "/srv/conda/envs/notebook/lib/python3.7/site-packages/ipykernel_launcher.py:40: DeprecationWarning: time.clock has been deprecated in Python 3.3 and will be removed from Python 3.8: use time.perf_counter or time.process_time instead\n",
      "/srv/conda/envs/notebook/lib/python3.7/site-packages/ipykernel_launcher.py:44: DeprecationWarning: time.clock has been deprecated in Python 3.3 and will be removed from Python 3.8: use time.perf_counter or time.process_time instead\n"
     ]
    },
    {
     "name": "stdout",
     "output_type": "stream",
     "text": [
      "rscore is 0.32600458181139147\n"
     ]
    },
    {
     "name": "stderr",
     "output_type": "stream",
     "text": [
      "/srv/conda/envs/notebook/lib/python3.7/site-packages/ipykernel_launcher.py:55: DeprecationWarning: time.clock has been deprecated in Python 3.3 and will be removed from Python 3.8: use time.perf_counter or time.process_time instead\n",
      "/srv/conda/envs/notebook/lib/python3.7/site-packages/ipykernel_launcher.py:59: DeprecationWarning: time.clock has been deprecated in Python 3.3 and will be removed from Python 3.8: use time.perf_counter or time.process_time instead\n"
     ]
    },
    {
     "name": "stdout",
     "output_type": "stream",
     "text": [
      "NN accuracy 0.6790445506487439\n"
     ]
    },
    {
     "name": "stderr",
     "output_type": "stream",
     "text": [
      "/srv/conda/envs/notebook/lib/python3.7/site-packages/ipykernel_launcher.py:64: DeprecationWarning: time.clock has been deprecated in Python 3.3 and will be removed from Python 3.8: use time.perf_counter or time.process_time instead\n",
      "/srv/conda/envs/notebook/lib/python3.7/site-packages/ipykernel_launcher.py:69: DeprecationWarning: time.clock has been deprecated in Python 3.3 and will be removed from Python 3.8: use time.perf_counter or time.process_time instead\n"
     ]
    },
    {
     "name": "stdout",
     "output_type": "stream",
     "text": [
      "DT accuracy 0.8449633530276337\n",
      "                      Name   R_Score  Linear_regression_time  \\\n",
      "0  a8-17-58-ff-fe-03-65-4a  0.446165                0.037873   \n",
      "1  a8-17-58-ff-fe-03-66-ba  0.200371                0.046867   \n",
      "2  a8-17-58-ff-fe-03-66-b8  0.520437                0.048600   \n",
      "3  a8-17-58-ff-fe-03-65-4b  0.658628                0.053819   \n",
      "4  a8-17-58-ff-fe-03-65-48  0.086323                0.016177   \n",
      "5  a8-17-58-ff-fe-03-93-d4  0.545130                0.049490   \n",
      "6  a8-17-58-ff-fe-03-65-4d  0.447799                0.021834   \n",
      "7  a8-17-58-ff-fe-03-93-91  0.326005                0.031230   \n",
      "\n",
      "   Linear_regression_CPU_time        NN  Neural_Network_time  \\\n",
      "0                    0.049301  0.735596          2026.338197   \n",
      "1                    0.060889  0.732757          2372.366788   \n",
      "2                    0.061989  0.713947          2409.425981   \n",
      "3                    0.070360  0.617922          2275.351431   \n",
      "4                    0.020685  0.655139           174.157434   \n",
      "5                    0.063496  0.724124          2314.325357   \n",
      "6                    0.028278  0.640053           415.638384   \n",
      "7                    0.039803  0.679045           777.516004   \n",
      "\n",
      "   Neural_Network_CPU_time        DT  Decision_Tree_time  \\\n",
      "0              2025.366948  0.963902            0.651157   \n",
      "1              2371.883254  0.953576            0.709361   \n",
      "2              2409.211939  0.972641            0.822080   \n",
      "3              2275.160283  0.921631            0.884058   \n",
      "4               174.134862  0.879951            0.188393   \n",
      "5              2313.958291  0.936247            0.752909   \n",
      "6               415.641101  0.943892            0.316214   \n",
      "7               777.292104  0.844963            0.581630   \n",
      "\n",
      "   Decision_Tree_CPU_time  \n",
      "0                0.653132  \n",
      "1                0.711811  \n",
      "2                0.824466  \n",
      "3                0.886459  \n",
      "4                0.189262  \n",
      "5                0.755418  \n",
      "6                0.318696  \n",
      "7                0.584312  \n"
     ]
    },
    {
     "name": "stderr",
     "output_type": "stream",
     "text": [
      "/srv/conda/envs/notebook/lib/python3.7/site-packages/ipykernel_launcher.py:40: DeprecationWarning: time.clock has been deprecated in Python 3.3 and will be removed from Python 3.8: use time.perf_counter or time.process_time instead\n",
      "/srv/conda/envs/notebook/lib/python3.7/site-packages/ipykernel_launcher.py:44: DeprecationWarning: time.clock has been deprecated in Python 3.3 and will be removed from Python 3.8: use time.perf_counter or time.process_time instead\n"
     ]
    },
    {
     "name": "stdout",
     "output_type": "stream",
     "text": [
      "rscore is 0.36037175936212673\n"
     ]
    },
    {
     "name": "stderr",
     "output_type": "stream",
     "text": [
      "/srv/conda/envs/notebook/lib/python3.7/site-packages/ipykernel_launcher.py:55: DeprecationWarning: time.clock has been deprecated in Python 3.3 and will be removed from Python 3.8: use time.perf_counter or time.process_time instead\n",
      "/srv/conda/envs/notebook/lib/python3.7/site-packages/ipykernel_launcher.py:59: DeprecationWarning: time.clock has been deprecated in Python 3.3 and will be removed from Python 3.8: use time.perf_counter or time.process_time instead\n"
     ]
    },
    {
     "name": "stdout",
     "output_type": "stream",
     "text": [
      "NN accuracy 0.6168530785101531\n"
     ]
    },
    {
     "name": "stderr",
     "output_type": "stream",
     "text": [
      "/srv/conda/envs/notebook/lib/python3.7/site-packages/ipykernel_launcher.py:64: DeprecationWarning: time.clock has been deprecated in Python 3.3 and will be removed from Python 3.8: use time.perf_counter or time.process_time instead\n",
      "/srv/conda/envs/notebook/lib/python3.7/site-packages/ipykernel_launcher.py:69: DeprecationWarning: time.clock has been deprecated in Python 3.3 and will be removed from Python 3.8: use time.perf_counter or time.process_time instead\n"
     ]
    },
    {
     "name": "stdout",
     "output_type": "stream",
     "text": [
      "DT accuracy 0.9090672168530786\n",
      "                      Name   R_Score  Linear_regression_time  \\\n",
      "0  a8-17-58-ff-fe-03-65-4a  0.446165                0.037873   \n",
      "1  a8-17-58-ff-fe-03-66-ba  0.200371                0.046867   \n",
      "2  a8-17-58-ff-fe-03-66-b8  0.520437                0.048600   \n",
      "3  a8-17-58-ff-fe-03-65-4b  0.658628                0.053819   \n",
      "4  a8-17-58-ff-fe-03-65-48  0.086323                0.016177   \n",
      "5  a8-17-58-ff-fe-03-93-d4  0.545130                0.049490   \n",
      "6  a8-17-58-ff-fe-03-65-4d  0.447799                0.021834   \n",
      "7  a8-17-58-ff-fe-03-93-91  0.326005                0.031230   \n",
      "8  a8-17-58-ff-fe-03-66-af  0.360372                0.044311   \n",
      "\n",
      "   Linear_regression_CPU_time        NN  Neural_Network_time  \\\n",
      "0                    0.049301  0.735596          2026.338197   \n",
      "1                    0.060889  0.732757          2372.366788   \n",
      "2                    0.061989  0.713947          2409.425981   \n",
      "3                    0.070360  0.617922          2275.351431   \n",
      "4                    0.020685  0.655139           174.157434   \n",
      "5                    0.063496  0.724124          2314.325357   \n",
      "6                    0.028278  0.640053           415.638384   \n",
      "7                    0.039803  0.679045           777.516004   \n",
      "8                    0.056444  0.616853          2318.491589   \n",
      "\n",
      "   Neural_Network_CPU_time        DT  Decision_Tree_time  \\\n",
      "0              2025.366948  0.963902            0.651157   \n",
      "1              2371.883254  0.953576            0.709361   \n",
      "2              2409.211939  0.972641            0.822080   \n",
      "3              2275.160283  0.921631            0.884058   \n",
      "4               174.134862  0.879951            0.188393   \n",
      "5              2313.958291  0.936247            0.752909   \n",
      "6               415.641101  0.943892            0.316214   \n",
      "7               777.292104  0.844963            0.581630   \n",
      "8              2317.993770  0.909067            0.728106   \n",
      "\n",
      "   Decision_Tree_CPU_time  \n",
      "0                0.653132  \n",
      "1                0.711811  \n",
      "2                0.824466  \n",
      "3                0.886459  \n",
      "4                0.189262  \n",
      "5                0.755418  \n",
      "6                0.318696  \n",
      "7                0.584312  \n",
      "8                0.730678  \n"
     ]
    },
    {
     "name": "stderr",
     "output_type": "stream",
     "text": [
      "/srv/conda/envs/notebook/lib/python3.7/site-packages/ipykernel_launcher.py:40: DeprecationWarning: time.clock has been deprecated in Python 3.3 and will be removed from Python 3.8: use time.perf_counter or time.process_time instead\n",
      "/srv/conda/envs/notebook/lib/python3.7/site-packages/ipykernel_launcher.py:44: DeprecationWarning: time.clock has been deprecated in Python 3.3 and will be removed from Python 3.8: use time.perf_counter or time.process_time instead\n"
     ]
    },
    {
     "name": "stdout",
     "output_type": "stream",
     "text": [
      "rscore is 0.602336161571691\n"
     ]
    },
    {
     "name": "stderr",
     "output_type": "stream",
     "text": [
      "/srv/conda/envs/notebook/lib/python3.7/site-packages/ipykernel_launcher.py:55: DeprecationWarning: time.clock has been deprecated in Python 3.3 and will be removed from Python 3.8: use time.perf_counter or time.process_time instead\n",
      "/srv/conda/envs/notebook/lib/python3.7/site-packages/ipykernel_launcher.py:59: DeprecationWarning: time.clock has been deprecated in Python 3.3 and will be removed from Python 3.8: use time.perf_counter or time.process_time instead\n"
     ]
    },
    {
     "name": "stdout",
     "output_type": "stream",
     "text": [
      "NN accuracy 0.7851544715447154\n"
     ]
    },
    {
     "name": "stderr",
     "output_type": "stream",
     "text": [
      "/srv/conda/envs/notebook/lib/python3.7/site-packages/ipykernel_launcher.py:64: DeprecationWarning: time.clock has been deprecated in Python 3.3 and will be removed from Python 3.8: use time.perf_counter or time.process_time instead\n",
      "/srv/conda/envs/notebook/lib/python3.7/site-packages/ipykernel_launcher.py:69: DeprecationWarning: time.clock has been deprecated in Python 3.3 and will be removed from Python 3.8: use time.perf_counter or time.process_time instead\n"
     ]
    },
    {
     "name": "stdout",
     "output_type": "stream",
     "text": [
      "DT accuracy 0.9526341463414634\n",
      "                      Name   R_Score  Linear_regression_time  \\\n",
      "0  a8-17-58-ff-fe-03-65-4a  0.446165                0.037873   \n",
      "1  a8-17-58-ff-fe-03-66-ba  0.200371                0.046867   \n",
      "2  a8-17-58-ff-fe-03-66-b8  0.520437                0.048600   \n",
      "3  a8-17-58-ff-fe-03-65-4b  0.658628                0.053819   \n",
      "4  a8-17-58-ff-fe-03-65-48  0.086323                0.016177   \n",
      "5  a8-17-58-ff-fe-03-93-d4  0.545130                0.049490   \n",
      "6  a8-17-58-ff-fe-03-65-4d  0.447799                0.021834   \n",
      "7  a8-17-58-ff-fe-03-93-91  0.326005                0.031230   \n",
      "8  a8-17-58-ff-fe-03-66-af  0.360372                0.044311   \n",
      "9  a8-17-58-ff-fe-03-93-97  0.602336                0.020446   \n",
      "\n",
      "   Linear_regression_CPU_time        NN  Neural_Network_time  \\\n",
      "0                    0.049301  0.735596          2026.338197   \n",
      "1                    0.060889  0.732757          2372.366788   \n",
      "2                    0.061989  0.713947          2409.425981   \n",
      "3                    0.070360  0.617922          2275.351431   \n",
      "4                    0.020685  0.655139           174.157434   \n",
      "5                    0.063496  0.724124          2314.325357   \n",
      "6                    0.028278  0.640053           415.638384   \n",
      "7                    0.039803  0.679045           777.516004   \n",
      "8                    0.056444  0.616853          2318.491589   \n",
      "9                    0.025997  0.785154           529.020063   \n",
      "\n",
      "   Neural_Network_CPU_time        DT  Decision_Tree_time  \\\n",
      "0              2025.366948  0.963902            0.651157   \n",
      "1              2371.883254  0.953576            0.709361   \n",
      "2              2409.211939  0.972641            0.822080   \n",
      "3              2275.160283  0.921631            0.884058   \n",
      "4               174.134862  0.879951            0.188393   \n",
      "5              2313.958291  0.936247            0.752909   \n",
      "6               415.641101  0.943892            0.316214   \n",
      "7               777.292104  0.844963            0.581630   \n",
      "8              2317.993770  0.909067            0.728106   \n",
      "9               529.036847  0.952634            0.270978   \n",
      "\n",
      "   Decision_Tree_CPU_time  \n",
      "0                0.653132  \n",
      "1                0.711811  \n",
      "2                0.824466  \n",
      "3                0.886459  \n",
      "4                0.189262  \n",
      "5                0.755418  \n",
      "6                0.318696  \n",
      "7                0.584312  \n",
      "8                0.730678  \n",
      "9                0.273163  \n"
     ]
    },
    {
     "name": "stderr",
     "output_type": "stream",
     "text": [
      "/srv/conda/envs/notebook/lib/python3.7/site-packages/ipykernel_launcher.py:40: DeprecationWarning: time.clock has been deprecated in Python 3.3 and will be removed from Python 3.8: use time.perf_counter or time.process_time instead\n",
      "/srv/conda/envs/notebook/lib/python3.7/site-packages/ipykernel_launcher.py:44: DeprecationWarning: time.clock has been deprecated in Python 3.3 and will be removed from Python 3.8: use time.perf_counter or time.process_time instead\n"
     ]
    },
    {
     "name": "stdout",
     "output_type": "stream",
     "text": [
      "rscore is 0.5747830463114021\n"
     ]
    },
    {
     "name": "stderr",
     "output_type": "stream",
     "text": [
      "/srv/conda/envs/notebook/lib/python3.7/site-packages/ipykernel_launcher.py:55: DeprecationWarning: time.clock has been deprecated in Python 3.3 and will be removed from Python 3.8: use time.perf_counter or time.process_time instead\n"
     ]
    }
   ],
   "source": [
    "# 'a8-17-58-ff-fe-03-67-1a':'Home1_Bedroom','a8-17-58-ff-fe-03-66-b9':'Home3_Bedroom',\n",
    "#    'a8-17-58-ff-fe-03-65-48':'Home4_Bedroom','a8-17-58-ff-fe-03-66-b7':'Home5_Bedroom',\n",
    "#    'a8-17-58-ff-fe-03-66-ac':'Home6_Bedroom','a8-17-58-ff-fe-03-65-4c':'Home7_Bedroom',\n",
    "#    'a8-17-58-ff-fe-03-64-cb':'Home8_Bedroom','a8-17-58-ff-fe-03-66-ba':'Home11_Bedroom',\n",
    "#    'a8-17-58-ff-fe-03-93-8e':'Home12_Bedroom','a8-17-58-ff-fe-03-93-90':'Home13_Bedroom',\n",
    "#    'a8-17-58-ff-fe-03-93-92':'Home14_Bedroom','a8-17-58-ff-fe-03-93-97':'Home16_Bedroom',\n",
    "#    'a8-17-58-ff-fe-03-93-d2':'Home20_Bedroom','a8-17-58-ff-fe-03-93-d4':'Home21_Bedroom',\n",
    "#    'a8-17-58-ff-fe-03-93-d9':'Home24_Bedroom','a8-17-58-ff-fe-03-66-af':'Home1_Livingroom',\n",
    "#    'a8-17-58-ff-fe-03-66-b6':'Home3_Livingroom',\n",
    "#    'a8-17-58-ff-fe-03-65-49':'Home4_Livingroom','a8-17-58-ff-fe-03-66-b8':'Home5_Livingroom',\n",
    "#s= {\n",
    "#    'a8-17-58-ff-fe-03-65-4b':'Home6_Livingroom','a8-17-58-ff-fe-03-65-4d':'Home7_Livingroom',\n",
    "#    'a8-17-58-ff-fe-03-64-cb':'Home8_Livingroom','a8-17-58-ff-fe-03-65-49':'Home11_Livingroom',\n",
    "#    'a8-17-58-ff-fe-03-93-8f':'Home12_Livingroom',\n",
    "    #'a8-17-58-ff-fe-03-93-91':'Home13_Livingroom',\n",
    "    #'a8-17-58-ff-fe-03-93-93':'Home14_Livingroom','a8-17-58-ff-fe-03-93-d0':'Home18_Livingroom',\n",
    "    #'a8-17-58-ff-fe-03-93-d1':'Home19_Livingroom','a8-17-58-ff-fe-03-93-d3':'Home20_Livingroom',\n",
    "    #'a8-17-58-ff-fe-03-93-d7':'Home22_Livingroom',\n",
    "    #'a8-17-58-ff-fe-03-93-d8':'Home23_Livingroom',\n",
    " #   'a8-17-58-ff-fe-03-93-da':'Home24_Livingroom',\n",
    " #   'a8-17-58-ff-fe-03-66-ba':'Home2_Livingroom','a8-17-58-ff-fe-03-65-4a':'Unknown1'}\n",
    "for i in s:\n",
    "    df1 = df[df['Sensor_Address']== i ]\n",
    "    df1.dropna\n",
    "    #df1['DateTime'] = df1['Date'] + ' ' + df1['Time']\n",
    "    #df1 = df1.drop(['Number'], axis =1)\n",
    "    #df1['Time'] = pd.to_datetime(df1['Time'], format='%H:%M:%S',errors='coerce').dt.time\n",
    "    #df1['Date'] = pd.to_datetime(df1['Date'], format='%Y-%m-%d',errors='coerce').dt.date\n",
    "    #df1.dropna\n",
    "    #df1['DateTime'] = pd.to_datetime(df1['DateTime'], format='%Y-%m-%d %H:%M:%S',errors='coerce')\n",
    "    #df1.dropna\n",
    "    #df1['Minute']=df1.DateTime.dt.minute\n",
    "    #df1['Hour']=df1.DateTime.dt.hour\n",
    "    result = pd.merge(weather, df1, on=['Date','Hour'])\n",
    "    result = result.reset_index()\n",
    "    X = pd.DataFrame(result,columns=['Temp_weather','Pressure','Humidity_weather','Wind_speed','Weather','Hour'])\n",
    "    y = result['Temperature'].round().astype(int)\n",
    "    X_train, X_test, y_train, y_test = train_test_split(X,y, test_size=0.3, random_state=0)\n",
    "    lr = time.time()\n",
    "    clr = time.clock()\n",
    "    Model = LinearRegression()\n",
    "    Model.fit(X_train, y_train)\n",
    "    lr = time.time() - lr\n",
    "    clr = time.clock() - clr\n",
    "    Model.score(X_train, y_train)\n",
    "    y_pred = Model.predict(X_test)\n",
    "    rscore = r2_score(y_test, y_pred)\n",
    "    print ('rscore is', rscore)\n",
    "    scaler = StandardScaler()\n",
    "    scaler.fit(X_train)\n",
    "    StandardScaler(copy=True, with_mean=True, with_std=True)\n",
    "    X_train1 = scaler.transform(X_train)\n",
    "    X_test1 = scaler.transform(X_test)\n",
    "    nn = time.time()\n",
    "    cnn = time.clock()\n",
    "    mlp = MLPClassifier(hidden_layer_sizes=(6,12,12,12,12,12,12,12,12,12,12,12,12,6), activation='relu', solver='adam', max_iter=500)\n",
    "    mlp.fit(X_train1,y_train)\n",
    "    nn = time.time() - nn\n",
    "    cnn = time.clock() - cnn\n",
    "    predictions = mlp.predict(X_test1)\n",
    "    NN = accuracy_score(y_test, predictions)\n",
    "    print ('NN accuracy', NN)\n",
    "    dt = time.time()\n",
    "    cdt = time.clock()\n",
    "    clf = DecisionTreeClassifier()\n",
    "    # Train Decision Tree Classifer\n",
    "    clf = clf.fit(X_train,y_train)\n",
    "    dt = time.time() - dt\n",
    "    cdt = time.clock() - cdt\n",
    "    y_pred = clf.predict(X_test)\n",
    "    DT = metrics.accuracy_score(y_test, y_pred)\n",
    "    print ('DT accuracy', DT)\n",
    "    result_matrix = result_matrix.append({'Name': i,'R_Score':rscore,'Linear_regression_time':lr,\n",
    "                                          'Linear_regression_CPU_time':clr,\n",
    "                                          'NN':NN,'Neural_Network_time':nn,'Neural_Network_CPU_time':cnn,\n",
    "                                          'DT':DT,'Decision_Tree_time':dt,'Decision_Tree_CPU_time':cdt\n",
    "                                         }, ignore_index=True)\n",
    "    print (result_matrix)\n",
    "    result = pd.DataFrame(None)\n",
    "    df1 = pd.DataFrame(None)\n",
    "    "
   ]
  },
  {
   "cell_type": "code",
   "execution_count": null,
   "metadata": {
    "scrolled": true
   },
   "outputs": [],
   "source": [
    "result_matrix"
   ]
  },
  {
   "cell_type": "markdown",
   "metadata": {},
   "source": [
    "\n",
    "feature_cols = ['Temp_weather','Pressure','Humidity_weather','Wind_speed','Weather','Hour']"
   ]
  },
  {
   "cell_type": "markdown",
   "metadata": {},
   "source": [
    "dot_data = StringIO()\n",
    "export_graphviz(clf, out_file=dot_data,  \n",
    "                filled=True, rounded=True,\n",
    "                special_characters=True, feature_names = feature_cols,class_names=['20','21','22','23','24','25','26','27','28','29'])\n",
    "graph = pydotplus.graph_from_dot_data(dot_data.getvalue())  \n",
    "graph.write_png('diabetes.png')\n",
    "Image(graph.create_png())\n"
   ]
  },
  {
   "cell_type": "markdown",
   "metadata": {},
   "source": [
    "clf1 = DecisionTreeClassifier(criterion=\"entropy\", max_depth=3)\n",
    "\n",
    "# Train Decision Tree Classifer\n",
    "clf1 = clf1.fit(X_train,y_train)\n",
    "\n",
    "#Predict the response for test dataset\n",
    "y_pred1 = clf1.predict(X_test)\n",
    "\n",
    "# Model Accuracy, how often is the classifier correct?\n",
    "metrics.accuracy_score(y_test, y_pred1)"
   ]
  },
  {
   "cell_type": "markdown",
   "metadata": {},
   "source": [
    "dot_data = StringIO()\n",
    "export_graphviz(clf1, out_file=dot_data,  \n",
    "                filled=True, rounded=True,\n",
    "                special_characters=True, feature_names = feature_cols,class_names=['20','21','22','23','24','25','26','27','28','29'])\n",
    "graph = pydotplus.graph_from_dot_data(dot_data.getvalue())  \n",
    "graph.write_png('tree.png')\n",
    "Image(graph.create_png())"
   ]
  },
  {
   "cell_type": "code",
   "execution_count": null,
   "metadata": {},
   "outputs": [],
   "source": [
    "#df3 = df2.groupby(['Date'])\n",
    "#df3 = df3['Temperature'].mean()\n",
    "#df3 = df3.reset_index()"
   ]
  },
  {
   "cell_type": "code",
   "execution_count": null,
   "metadata": {},
   "outputs": [],
   "source": [
    "#plt.scatter(df3['Date'],df3['Temperature'])"
   ]
  },
  {
   "cell_type": "code",
   "execution_count": null,
   "metadata": {},
   "outputs": [],
   "source": [
    "#weather1 = weather.groupby(['Date','Hour'])\n",
    "#weather1 = weather1['Temperature','Temperature_Max','Temperature_min','Pressure','Humidity_weather','Wind_speed'].mean()"
   ]
  },
  {
   "cell_type": "code",
   "execution_count": null,
   "metadata": {},
   "outputs": [],
   "source": [
    "#weather1 = weather1.reset_index()"
   ]
  },
  {
   "cell_type": "markdown",
   "metadata": {},
   "source": [
    " Name   R_Score        NN        DT\n",
    "0   a8-17-58-ff-fe-03-66-ac  0.595430  0.744994  0.943777\n",
    "1   a8-17-58-ff-fe-03-65-4c  0.468339  0.694472  0.954318\n",
    "2   a8-17-58-ff-fe-03-64-cb  0.146548  0.713001  0.954878\n",
    "3   a8-17-58-ff-fe-03-66-ba  0.200371  0.683995  0.953583\n",
    "4   a8-17-58-ff-fe-03-93-90  0.297189  0.706077  0.864526\n",
    "5   a8-17-58-ff-fe-03-93-92  0.447549  0.919539  0.985631\n",
    "6   a8-17-58-ff-fe-03-93-97  0.602336  0.754309  0.952748\n",
    "7   a8-17-58-ff-fe-03-93-d2  0.499422  0.712141  0.963377\n",
    "8   a8-17-58-ff-fe-03-93-d4  0.545130  0.722693  0.936247\n",
    "9   a8-17-58-ff-fe-03-93-d9  0.507864  0.711767  0.950648\n",
    "10  a8-17-58-ff-fe-03-66-af  0.360372  0.594911  0.909053\n",
    "11  a8-17-58-ff-fe-03-66-b6  0.216660  0.825937  0.869008\n",
    "12  a8-17-58-ff-fe-03-66-b8  0.520437  0.752808  0.972641\n",
    "13  a8-17-58-ff-fe-03-65-4b  0.658628  0.666369  0.921631"
   ]
  },
  {
   "cell_type": "code",
   "execution_count": null,
   "metadata": {},
   "outputs": [],
   "source": [
    "#result = pd.merge(weather, df1, on=['Date','Time','DateTime','Minute','Hour'])"
   ]
  },
  {
   "cell_type": "code",
   "execution_count": null,
   "metadata": {},
   "outputs": [],
   "source": [
    "#result.head()"
   ]
  },
  {
   "cell_type": "code",
   "execution_count": null,
   "metadata": {},
   "outputs": [],
   "source": []
  }
 ],
 "metadata": {
  "kernelspec": {
   "display_name": "Python 3",
   "language": "python",
   "name": "python3"
  }
 },
 "nbformat": 4,
 "nbformat_minor": 4
}
